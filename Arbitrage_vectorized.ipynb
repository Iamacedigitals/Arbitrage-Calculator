{
 "cells": [
  {
   "cell_type": "markdown",
   "id": "4a5c9ac5",
   "metadata": {},
   "source": [
    "# Vectorize the qoutes\n",
    "\n",
    "We are taking in inputs of the price of each transactions and vectorizing them to perform the arbitrage at a go and release the results all at once so we can decide which ones to go for "
   ]
  },
  {
   "cell_type": "markdown",
   "id": "aae6edec",
   "metadata": {},
   "source": [
    "Let Each row be a transaction\n",
    "\n",
    "T1 -> quoted | Implied | Status | Is_profittable | Selling_price | Profit\n",
    "\n",
    "T2 -> quoted | Implied | Status | Is_profittable | Selling_price | Profit\n",
    "\n",
    "T3 -> quoted | Implied | Status | Is_profittable | Selling_price | Profit\n",
    "\n",
    "T4 -> quoted | Implied | Status | Is_profittable | Selling_price | Profit\n",
    "\n",
    "T5 -> quoted | Implied | Status | Is_profittable | Selling_price | Profit\n",
    "\n",
    "T6 -> quoted | Implied | Status | Is_profittable | Selling_price | Profit"
   ]
  },
  {
   "cell_type": "code",
   "execution_count": 9,
   "id": "6d0ad07e",
   "metadata": {},
   "outputs": [],
   "source": [
    "import numpy as np\n",
    "import pandas as pd\n",
    "\n",
    "rand_quoteX =  np.random.randint(70000, 120000) # Random quote generated for BTC USD -> XY\n",
    "rand_quoteY =  np.random.randint(997, 1500) # Random quote generated for USD NGN -> YZ\n",
    "rand_quoteZ =  np.random.randint(70000000, 180000000)# Random quote generated for BTC NGN -> XZ\n",
    "capital = 1000 # Takes the unit of the quote\n",
    "\n",
    "# Implied is rand_quoteZ / rand_quotesY\n",
    "\n",
    "quote_list = np.array([rand_quoteX, rand_quoteY, rand_quoteZ, 1/rand_quoteX, 1/rand_quoteY, 1/rand_quoteZ])\n",
    "implied_list =np.array([((1/rand_quoteY)/(1/rand_quoteZ)), (rand_quoteZ/rand_quoteX), (rand_quoteY/(1/rand_quoteX)), ((1/rand_quoteZ)/(1/rand_quoteY) ), (rand_quoteX/rand_quoteZ), ((1/rand_quoteX)/rand_quoteY)]) # BTCUSD, USDNGN, BTCNGN, USDBTC, NGNUSD, NGNBTC\n",
    "\n",
    "xz_list = np.array([1/rand_quoteY, rand_quoteZ, rand_quoteY, 1/rand_quoteZ, rand_quoteX, 1/rand_quoteX]) # XZ for Quote1, Quote2, Quote3 ...\n",
    "xy_list = np.array([1/rand_quoteZ, rand_quoteX , 1/rand_quoteX, 1/rand_quoteY, rand_quoteZ, rand_quoteY]) #XY for QUOTE1, Quote2 ...\n",
    "\n",
    "selling_price = (((capital / quote_list) / xy_list) * xz_list)\n",
    "profit =  selling_price - (capital)\n",
    "quote_data = {\n",
    "    \"Quotes[YZ]\":quote_list,\n",
    "    \"Implied[YZ']\": implied_list,\n",
    "    \"Is_Arbitrage\": np.where(quote_list != implied_list, True, False),\n",
    "    \"Is_Profittable\": np.where(selling_price > capital , True, False),\n",
    "    \"Selling_Price\": selling_price,\n",
    "    \"Profit\": profit\n",
    "}\n",
    "indices = [\"T1\", \"T2\", \"T3\", \"T4\", \"T5\", \"T6\"]\n",
    "\n",
    "data = pd.DataFrame(quote_data, index=indices)"
   ]
  },
  {
   "cell_type": "code",
   "execution_count": null,
   "id": "aefd53c1",
   "metadata": {},
   "outputs": [],
   "source": []
  },
  {
   "cell_type": "code",
   "execution_count": null,
   "id": "535373be",
   "metadata": {},
   "outputs": [],
   "source": []
  }
 ],
 "metadata": {
  "kernelspec": {
   "display_name": "Python 3",
   "language": "python",
   "name": "python3"
  },
  "language_info": {
   "codemirror_mode": {
    "name": "ipython",
    "version": 3
   },
   "file_extension": ".py",
   "mimetype": "text/x-python",
   "name": "python",
   "nbconvert_exporter": "python",
   "pygments_lexer": "ipython3",
   "version": "3.13.7"
  }
 },
 "nbformat": 4,
 "nbformat_minor": 5
}
